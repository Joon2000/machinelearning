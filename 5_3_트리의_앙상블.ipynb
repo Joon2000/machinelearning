{
  "nbformat": 4,
  "nbformat_minor": 0,
  "metadata": {
    "colab": {
      "provenance": [],
      "authorship_tag": "ABX9TyNbv/osFusyZfmmqh//DFDi",
      "include_colab_link": true
    },
    "kernelspec": {
      "name": "python3",
      "display_name": "Python 3"
    },
    "language_info": {
      "name": "python"
    }
  },
  "cells": [
    {
      "cell_type": "markdown",
      "metadata": {
        "id": "view-in-github",
        "colab_type": "text"
      },
      "source": [
        "<a href=\"https://colab.research.google.com/github/Joon2000/machinelearning/blob/main/5_3_%ED%8A%B8%EB%A6%AC%EC%9D%98_%EC%95%99%EC%83%81%EB%B8%94.ipynb\" target=\"_parent\"><img src=\"https://colab.research.google.com/assets/colab-badge.svg\" alt=\"Open In Colab\"/></a>"
      ]
    },
    {
      "cell_type": "code",
      "execution_count": 1,
      "metadata": {
        "id": "nJQ7gWk91kGL"
      },
      "outputs": [],
      "source": [
        "\"\"\"트리의 앙상블\"\"\"\n",
        "\n",
        "#앙상블 학습(ensemble learning) => 정형 데이터를 다루는데 가장 뛰어난 성능을 내는 알고리즘\n",
        "\n",
        "#랜덤 포레스트\n",
        "#결정 트리를 랜덤하게 만들어 결정 트리의 숲을 만든다 => 각 결정 트리의 예측을 사용해 최종 예측을 함\n",
        "#부트스트랩 샘블(bootstrap sample) => 훈련할 데이터를 랜덤하게 뽑음, 중복 혀용, 부트스트랩 샘플은 훈련 세트의 크기와 같게 만든다\n",
        "#노드를 분할할 때 전체 특성 중에서 일부 특성을 무작위로 고른 다음 이 중에서 최선의 분할을 찾는다 (분류 모델은 기본적으로 전체 특성 중 제곱근만큼의 특성을 찾음 => DecisionTree로 만듬 => Forest 만들기)\n",
        "#회귀 모델은 전체 특성을 사용\n",
        "#랜덤하게 샘플과 특성을 선택하기 때문에 과대적합을 막음\n",
        "#분류는 다수결, 회귀는 평균으로 예측\n",
        "#Decision Tree를 100개 정도 만듬\n",
        "\n",
        "import numpy as np\n",
        "import pandas as pd\n",
        "from sklearn.model_selection import train_test_split\n",
        "wine = pd.read_csv('https://bit.ly/wine_csv_data')\n",
        "data = wine[['alcohol', 'sugar', 'pH',]].to_numpy()\n",
        "target = wine['class'].to_numpy()\n",
        "train_input, test_input, train_target, test_target = train_test_split(data, target, test_size=0.2, random_state=42)"
      ]
    },
    {
      "cell_type": "code",
      "source": [
        "from sklearn.model_selection import cross_validate\n",
        "from sklearn.ensemble import RandomForestClassifier\n",
        "rf = RandomForestClassifier(n_jobs=-1, random_state=42)\n",
        "scores = cross_validate(rf, train_input, train_target, return_train_score=True, n_jobs=-1) #return_train_score을 통해 훈련세트에 대한 점수도 같이 반환, 매개변수 조작 안함\n",
        "print(np.mean(scores['train_score']), np.mean(scores['test_score']))\n",
        "#과대적합"
      ],
      "metadata": {
        "colab": {
          "base_uri": "https://localhost:8080/"
        },
        "id": "5J-pMJRR-q2I",
        "outputId": "f4070b5f-bcf0-434a-9738-d2e2b8723cb5"
      },
      "execution_count": 2,
      "outputs": [
        {
          "output_type": "stream",
          "name": "stdout",
          "text": [
            "0.9973541965122431 0.8905151032797809\n"
          ]
        }
      ]
    },
    {
      "cell_type": "code",
      "source": [
        "rf.fit(train_input, train_target) #특성을 랜덤하게 선택 => 일부 특성이 과도하게 중요해지는 것을 막음\n",
        "print(rf.feature_importances_)"
      ],
      "metadata": {
        "colab": {
          "base_uri": "https://localhost:8080/"
        },
        "id": "YyLwvGpc_p9D",
        "outputId": "8e9d69f3-144b-48cb-8638-57742e9c860c"
      },
      "execution_count": 4,
      "outputs": [
        {
          "output_type": "stream",
          "name": "stdout",
          "text": [
            "[0.23167441 0.50039841 0.26792718]\n"
          ]
        }
      ]
    },
    {
      "cell_type": "code",
      "source": [
        "#OOB(out of bag)샘플 => 부트슽랩 샘플에 포함되지 않고 남은 샘플\n",
        "#OOB 샘플을 통해 rf를 평가할 수 있음 (검증 세트같은 역할)\n",
        "\n",
        "rf = RandomForestClassifier(oob_score=True, n_jobs=-1, random_state=42) # oob_score=True\n",
        "rf.fit(train_input, train_target)\n",
        "print(rf.oob_score_)"
      ],
      "metadata": {
        "colab": {
          "base_uri": "https://localhost:8080/"
        },
        "id": "yhOXgKIMVLaR",
        "outputId": "118853f8-c5a2-4bf5-c181-231322161d57"
      },
      "execution_count": 6,
      "outputs": [
        {
          "output_type": "stream",
          "name": "stdout",
          "text": [
            "0.8934000384837406\n"
          ]
        }
      ]
    },
    {
      "cell_type": "code",
      "source": [
        "# 엑스트라 트리(Extra Tree)\n",
        "# 랜덤 트리와 비스스하지만 (특성을 랜덤하게 고름) 부트스트랩 샘플을 사용하지 않고 전체 훈련 세트를 사용하고 노드 분할 할 때 최적의 분할이 아닌 무작위 분할을 한다\n",
        "# 많은 트리를 앙상블하기 때문에 과대적합을 막고 검증 세트 점수를 높인다\n",
        "\n",
        "from sklearn.ensemble import ExtraTreesClassifier\n",
        "et = ExtraTreesClassifier(n_jobs=-1, random_state=42)\n",
        "scores = cross_validate(et, train_input, train_target, return_train_score=True, n_jobs=-1)\n",
        "print(np.mean(scores['train_score']), np.mean(scores['test_score']))\n",
        "#랜덤하게 노드를 분할하기 때문에 빠른계산 속도를 가짐"
      ],
      "metadata": {
        "colab": {
          "base_uri": "https://localhost:8080/"
        },
        "id": "Coo4_aSeWcHX",
        "outputId": "af1a953b-ec2c-47b1-da35-02dbd7c57a09"
      },
      "execution_count": 8,
      "outputs": [
        {
          "output_type": "stream",
          "name": "stdout",
          "text": [
            "0.9974503966084433 0.8887848893166506\n"
          ]
        }
      ]
    },
    {
      "cell_type": "code",
      "source": [
        "et.fit(train_input, train_target)\n",
        "print(et.feature_importances_)"
      ],
      "metadata": {
        "colab": {
          "base_uri": "https://localhost:8080/"
        },
        "id": "uTaqS8rHeFy0",
        "outputId": "87391bc1-6399-422c-aa0c-12a93610755f"
      },
      "execution_count": 9,
      "outputs": [
        {
          "output_type": "stream",
          "name": "stdout",
          "text": [
            "[0.20183568 0.52242907 0.27573525]\n"
          ]
        }
      ]
    },
    {
      "cell_type": "code",
      "source": [
        "#그래디언트 부스팅 (Gradient Boosting)\n",
        "#깊이가 얕은 결정 트리를 사용하여 이전 트리의 오차를 보완\n",
        "#깊이가 3인 결정트리를 100개 사용\n",
        "#경사 하강법과 비슷 => 결정 트리를 계속 추가하면서 가장 낮은 곳으로 이동\n",
        "#학습률 매개변수로 속도를 조절 가능\n",
        "\n",
        "from sklearn.ensemble import GradientBoostingClassifier\n",
        "gb = GradientBoostingClassifier(random_state=42)\n",
        "scores = cross_validate(gb, train_input, train_target, return_train_score=True, n_jobs=-1)\n",
        "print(np.mean(scores['train_score']), np.mean(scores['test_score']))\n"
      ],
      "metadata": {
        "colab": {
          "base_uri": "https://localhost:8080/"
        },
        "id": "zjzc4nJZeXlv",
        "outputId": "6aba305b-0c88-4988-9101-68cf9577c13e"
      },
      "execution_count": 11,
      "outputs": [
        {
          "output_type": "stream",
          "name": "stdout",
          "text": [
            "0.8881086892152563 0.8720430147331015\n"
          ]
        }
      ]
    },
    {
      "cell_type": "code",
      "source": [
        "#과대적합에 매우 강함\n",
        "#학습률를 증가시키고 트리의 개수를 늘리면 성능이 향상됨\n",
        "gb = GradientBoostingClassifier(n_estimators=500, learning_rate=0.2, random_state=42)\n",
        "scores = cross_validate(gb, train_input, train_target, return_train_score=True, n_jobs=-1)\n",
        "print(np.mean(scores['train_score']), np.mean(scores['test_score']))\n",
        "#결정 트리: 100=>500개, 학습률: 0.1=>0.2"
      ],
      "metadata": {
        "colab": {
          "base_uri": "https://localhost:8080/"
        },
        "id": "S315ZVrwkyh0",
        "outputId": "f31e6ea7-156b-432d-b4c7-15af1801d325"
      },
      "execution_count": 13,
      "outputs": [
        {
          "output_type": "stream",
          "name": "stdout",
          "text": [
            "0.9464595437171814 0.8780082549788999\n"
          ]
        }
      ]
    },
    {
      "cell_type": "code",
      "source": [
        "gb.fit(train_input, train_target)\n",
        "print(gb.feature_importances_)\n",
        "#subsample를 통해 훈련 세트의 비율을 정할 수 있음 => 각 tree마다 다른 샘플집단 사용 => 다양성 증가\n",
        "#랜덤 포레스트보다 일부 특성에 집중\n",
        "#훈련속도가 느림(n_jobs가 없음)"
      ],
      "metadata": {
        "colab": {
          "base_uri": "https://localhost:8080/"
        },
        "id": "IuAfcTUDlEy4",
        "outputId": "f7819457-c875-4028-ca69-9069ea74e1c9"
      },
      "execution_count": 14,
      "outputs": [
        {
          "output_type": "stream",
          "name": "stdout",
          "text": [
            "[0.15872278 0.68010884 0.16116839]\n"
          ]
        }
      ]
    },
    {
      "cell_type": "code",
      "source": [
        "#히스토그램 기반 그레디언트 부스팅(Histogram-based Gradient Boosting)\n",
        "#가장 인기가 많음\n",
        "#훈련 데이터을 256개의 구간으로 나눔 => 노드를 분할할 때 최적의 분할을 매우 빠르게 찾을 수 있음 (데이의 구간별 통계적 정보를 미리 계산)\n",
        "#256개의 구간 중 하나를 누락된 값을 위해 씀 => 누락된 특성을 전처리 할 필요가 없음\n",
        "#트리의 개수를 n_estimators 대신해 부스팅 반복 횟수를 지정하는 max_iter를 사용\n",
        "\n",
        "from sklearn.ensemble import HistGradientBoostingClassifier\n",
        "hgb = HistGradientBoostingClassifier(random_state=42)\n",
        "scores = cross_validate(hgb, train_input,train_target, return_train_score=True)\n",
        "print(np.mean(scores['train_score']), np.mean(scores['test_score']))\n"
      ],
      "metadata": {
        "colab": {
          "base_uri": "https://localhost:8080/"
        },
        "id": "fcKrSaIYo-PC",
        "outputId": "bb68566a-2197-4646-c32f-43c08a6ab19a"
      },
      "execution_count": 17,
      "outputs": [
        {
          "output_type": "stream",
          "name": "stdout",
          "text": [
            "0.9321723946453317 0.8801241948619236\n"
          ]
        }
      ]
    },
    {
      "cell_type": "code",
      "source": [
        "#특성 중요도를 계산하기 위해 permutation_importance() 함수를 사용 => 특성을 하나씩 랜덤하게 섞어서 모델의 성능의 변화를 관찰해서 어떤 특성이 중요한지 계산\n",
        "#사이킷런에서 제공하는 추정기 모델에 모두 사용 가능\n",
        "\n",
        "from sklearn.inspection import permutation_importance\n",
        "\n",
        "hgb.fit(train_input, train_target)\n",
        "result = permutation_importance(hgb, train_input, train_target, n_repeats=10, random_state=42, n_jobs=-1) #n_repeats로 랜덤하게 섞을 횟수를 지정\n",
        "print(result.importances_mean)\n",
        "#[특성 중요도, 평균, 표준편차]"
      ],
      "metadata": {
        "colab": {
          "base_uri": "https://localhost:8080/"
        },
        "id": "YqJX8mIyyc9o",
        "outputId": "c17ec9f4-18f9-46e8-d380-430667c0f32f"
      },
      "execution_count": 19,
      "outputs": [
        {
          "output_type": "stream",
          "name": "stdout",
          "text": [
            "[0.08876275 0.23438522 0.08027708]\n"
          ]
        }
      ]
    },
    {
      "cell_type": "code",
      "source": [
        "# 테스트 세트의 특성 중요도\n",
        "result= permutation_importance(hgb, test_input, test_target, n_repeats=10, random_state=42, n_jobs=-1)\n",
        "print(result.importances_mean)"
      ],
      "metadata": {
        "colab": {
          "base_uri": "https://localhost:8080/"
        },
        "id": "MomVfg-Bz_dE",
        "outputId": "4728c805-27ee-49f3-ba4b-6d78c6764069"
      },
      "execution_count": 20,
      "outputs": [
        {
          "output_type": "stream",
          "name": "stdout",
          "text": [
            "[0.05969231 0.20238462 0.049     ]\n"
          ]
        }
      ]
    },
    {
      "cell_type": "code",
      "source": [
        "hgb.score(test_input, test_target)"
      ],
      "metadata": {
        "colab": {
          "base_uri": "https://localhost:8080/"
        },
        "id": "axUKm66K0z9s",
        "outputId": "99bc822b-3bc5-4484-ef57-7aa79768e8bd"
      },
      "execution_count": 21,
      "outputs": [
        {
          "output_type": "execute_result",
          "data": {
            "text/plain": [
              "0.8723076923076923"
            ]
          },
          "metadata": {},
          "execution_count": 21
        }
      ]
    },
    {
      "cell_type": "code",
      "source": [
        "#XGBoost 라이브러리\n",
        "#사이킷런의 cross_validate와 같이 쓸 수 있음\n",
        "\n",
        "from xgboost import XGBClassifier\n",
        "xgb = XGBClassifier(tree_method='hist', random_state=42) # tree_method='hist'\n",
        "scores = cross_validate(xgb, train_input, train_target, return_train_score=True)\n",
        "print(np.mean(scores['train_score']), np.mean(scores['test_score']))"
      ],
      "metadata": {
        "colab": {
          "base_uri": "https://localhost:8080/"
        },
        "id": "zgJxbLgX048L",
        "outputId": "e2ebe608-38fc-41f7-e327-3af489164e73"
      },
      "execution_count": 22,
      "outputs": [
        {
          "output_type": "stream",
          "name": "stdout",
          "text": [
            "0.9555033709953124 0.8799326275264677\n"
          ]
        }
      ]
    },
    {
      "cell_type": "code",
      "source": [
        "#LightGBM\n",
        "#사이킷런의 cross_validate와 같이 쓸 수 있음\n",
        "\n",
        "from lightgbm import LGBMClassifier\n",
        "lgb = LGBMClassifier(random_state=42)\n",
        "scores=cross_validate(lgb, train_input, train_target, return_train_score=True, n_jobs=-1)\n",
        "print(np.mean(scores['train_score']), np.mean(scores['test_score']))"
      ],
      "metadata": {
        "colab": {
          "base_uri": "https://localhost:8080/"
        },
        "id": "Bdjmv_C01x0R",
        "outputId": "105e1cb7-0e46-4bc3-ded5-fb45a323f886"
      },
      "execution_count": 24,
      "outputs": [
        {
          "output_type": "stream",
          "name": "stdout",
          "text": [
            "0.935828414851749 0.8801251203079884\n"
          ]
        }
      ]
    }
  ]
}