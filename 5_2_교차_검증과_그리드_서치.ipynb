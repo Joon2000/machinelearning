{
  "nbformat": 4,
  "nbformat_minor": 0,
  "metadata": {
    "colab": {
      "provenance": [],
      "authorship_tag": "ABX9TyODSgTRgV9/jlrCvg7vAMXn",
      "include_colab_link": true
    },
    "kernelspec": {
      "name": "python3",
      "display_name": "Python 3"
    },
    "language_info": {
      "name": "python"
    }
  },
  "cells": [
    {
      "cell_type": "markdown",
      "metadata": {
        "id": "view-in-github",
        "colab_type": "text"
      },
      "source": [
        "<a href=\"https://colab.research.google.com/github/Joon2000/machinelearning/blob/main/5_2_%EA%B5%90%EC%B0%A8_%EA%B2%80%EC%A6%9D%EA%B3%BC_%EA%B7%B8%EB%A6%AC%EB%93%9C_%EC%84%9C%EC%B9%98.ipynb\" target=\"_parent\"><img src=\"https://colab.research.google.com/assets/colab-badge.svg\" alt=\"Open In Colab\"/></a>"
      ]
    },
    {
      "cell_type": "code",
      "execution_count": 5,
      "metadata": {
        "colab": {
          "base_uri": "https://localhost:8080/"
        },
        "id": "84FVpOOCMnh8",
        "outputId": "dda6eafe-4111-4cd9-fdfd-14629b63eb7e"
      },
      "outputs": [
        {
          "output_type": "stream",
          "name": "stdout",
          "text": [
            "(4157, 3) (1040, 3)\n"
          ]
        }
      ],
      "source": [
        "\"\"\"교차 검증과 그리드 서치\"\"\"\n",
        "\n",
        "# 검증세트(validation set) 훈련세트를 검증세트와 테스트세트로 나눈다 (보통 20~30%로 만)\n",
        "# 가장 좋은 모델을 고르고 훈련세트와 검증세트를 합쳐서 다시 \n",
        "\n",
        "import pandas as pd\n",
        "wine = pd.read_csv('https://bit.ly/wine_csv_data')\n",
        "data = wine[['alcohol', 'sugar', 'pH']].to_numpy()\n",
        "target = wine['class'].to_numpy()\n",
        "\n",
        "from sklearn.model_selection import train_test_split\n",
        "train_input, test_input, train_target,test_target = train_test_split(data, target, test_size=0.2, random_state=42) #훈련 데이터와 테스트 데이터 나누기\n",
        "sub_input, val_input, sub_target, val_target = train_test_split(train_input, train_target, test_size = 0.2, random_state = 42) #훈련 세트와 검증 세트로 나누기\n",
        "print(sub_input.shape, val_input.shape)"
      ]
    },
    {
      "cell_type": "code",
      "source": [
        "from sklearn.tree import DecisionTreeClassifier\n",
        "dt = DecisionTreeClassifier(random_state = 42)\n",
        "dt.fit(sub_input, sub_target)\n",
        "print(dt.score(sub_input, sub_target))\n",
        "print(dt.score(val_input, val_target))\n",
        "#과데접합"
      ],
      "metadata": {
        "colab": {
          "base_uri": "https://localhost:8080/"
        },
        "id": "8a0GIpuXXY-b",
        "outputId": "3c668566-fc64-4e3a-da11-b02f848cdd9d"
      },
      "execution_count": 6,
      "outputs": [
        {
          "output_type": "stream",
          "name": "stdout",
          "text": [
            "0.9971133028626413\n",
            "0.864423076923077\n"
          ]
        }
      ]
    },
    {
      "cell_type": "code",
      "source": [
        "#교차 검증(cross validiation) 검증 세트를 만드는 과정을 여러번 반복함\n",
        "from sklearn.model_selection import cross_validate\n",
        "scores = cross_validate(dt, train_input, train_target)  #5-폴드 교차 검증\n",
        "print(scores)"
      ],
      "metadata": {
        "colab": {
          "base_uri": "https://localhost:8080/"
        },
        "id": "Na9jCh9sYOnX",
        "outputId": "9c824d38-3f9b-478a-9c2f-68e5f39d4301"
      },
      "execution_count": 7,
      "outputs": [
        {
          "output_type": "stream",
          "name": "stdout",
          "text": [
            "{'fit_time': array([0.01191545, 0.0071857 , 0.00762892, 0.00742197, 0.00746012]), 'score_time': array([0.00124693, 0.00111198, 0.00113106, 0.00133681, 0.00107074]), 'test_score': array([0.86923077, 0.84615385, 0.87680462, 0.84889317, 0.83541867])}\n"
          ]
        }
      ]
    },
    {
      "cell_type": "code",
      "source": [
        "import numpy as np\n",
        "print(np.mean(scores['test_score'])) #평균"
      ],
      "metadata": {
        "colab": {
          "base_uri": "https://localhost:8080/"
        },
        "id": "WppX9o4LUP52",
        "outputId": "b32d67cd-2226-47ac-ec17-5ea3bbdf3ae0"
      },
      "execution_count": 9,
      "outputs": [
        {
          "output_type": "stream",
          "name": "stdout",
          "text": [
            "0.855300214703487\n"
          ]
        }
      ]
    },
    {
      "cell_type": "code",
      "source": [
        "#교차 검증을 할 때 훈련 세트를 섞으려면 분할기(splitter)를 지정해야 함\n",
        "#위의 과저에서는 train_test_split()이 섞어줌\n",
        "#회귀 모델은 KFold 분할기, 분류 모델의 경우 stratifiedKFold를 사용\n",
        "\n",
        "from sklearn.model_selection import StratifiedKFold\n",
        "scores = cross_validate(dt, train_input, train_target, cv = StratifiedKFold()) #cv를 알아서 인식해주기는 함\n",
        "print(np.mean(scores['test_score']))"
      ],
      "metadata": {
        "id": "ieZL6Tx4auzo",
        "colab": {
          "base_uri": "https://localhost:8080/"
        },
        "outputId": "518408f7-73d0-451c-a3e8-6180efe9b1f3"
      },
      "execution_count": 11,
      "outputs": [
        {
          "output_type": "stream",
          "name": "stdout",
          "text": [
            "0.855300214703487\n"
          ]
        }
      ]
    },
    {
      "cell_type": "code",
      "source": [
        "# 10-폴드 교차 검증\n",
        "splitter = StratifiedKFold(n_splits = 10, shuffle=True, random_state = 42)\n",
        "scores = cross_validate(dt, train_input, train_target, cv=splitter)\n",
        "print(np.mean(scores['test_score']))"
      ],
      "metadata": {
        "colab": {
          "base_uri": "https://localhost:8080/"
        },
        "id": "EK-X1LXAWAWz",
        "outputId": "61b39f9f-5a9d-4984-c8dd-1276189814b6"
      },
      "execution_count": 13,
      "outputs": [
        {
          "output_type": "stream",
          "name": "stdout",
          "text": [
            "0.8574181117533719\n"
          ]
        }
      ]
    },
    {
      "cell_type": "code",
      "source": [
        "#하이퍼파라미터 튜닝\n",
        "#한 매개변수의 최적값은 다른 매개변수의 값이 바뀌면 함께 달라짐\n",
        "#해결법 => 그리드서치(Grid Search)\n",
        "#사이킷런의 GridSearchCV는 하이퍼파라미터 탐색과 교차 검증을 한번에 수행\n",
        "\n",
        "#min_impurity_decrease 매개변수의 최적값을 찾아보자\n",
        "from sklearn.model_selection import GridSearchCV\n",
        "params = {'min_impurity_decrease': [0.0001, 0.0002, 0.0003, 0.0004, 0.0005]}\n",
        "gs = GridSearchCV(DecisionTreeClassifier(random_state = 42),params, n_jobs=-1)\n",
        "\n",
        "#GridSearchCV의 기본 cv값은 5이다 => 따라서 5*5=25개의 모델을 훈련한다\n",
        "#n_jobs는 병렬 실행에 사용할 CPU 코어의 수 (-1은 모두 사용)\n",
        "\n",
        "gs.fit(train_input, train_target)\n",
        "#그리드 서치는 마지막에 전체 훈련 세트로 다시 모델을 훈련해줌\n",
        "\n",
        "dt = gs.best_estimator_\n",
        "print(dt.score(train_input, train_target))"
      ],
      "metadata": {
        "colab": {
          "base_uri": "https://localhost:8080/"
        },
        "id": "2ferFiqBWplQ",
        "outputId": "13810186-36fe-46c8-d993-d8ab7bec051f"
      },
      "execution_count": 14,
      "outputs": [
        {
          "output_type": "stream",
          "name": "stdout",
          "text": [
            "0.9615162593804117\n"
          ]
        }
      ]
    },
    {
      "cell_type": "code",
      "source": [
        "print(gs.best_params_) #최적의 파라미터"
      ],
      "metadata": {
        "colab": {
          "base_uri": "https://localhost:8080/"
        },
        "id": "nsou-M35ZDok",
        "outputId": "2c97b1a4-84af-4e98-a3eb-ea1651b6b146"
      },
      "execution_count": 15,
      "outputs": [
        {
          "output_type": "stream",
          "name": "stdout",
          "text": [
            "{'min_impurity_decrease': 0.0001}\n"
          ]
        }
      ]
    },
    {
      "cell_type": "code",
      "source": [
        "#교차 검증의 평균 점수\n",
        "print(gs.cv_results_['mean_test_score'])"
      ],
      "metadata": {
        "colab": {
          "base_uri": "https://localhost:8080/"
        },
        "id": "sz1BlP4tZGfx",
        "outputId": "e55ea4aa-d51f-4aeb-e82a-71bc9991fe55"
      },
      "execution_count": 16,
      "outputs": [
        {
          "output_type": "stream",
          "name": "stdout",
          "text": [
            "[0.86819297 0.86453617 0.86492226 0.86780891 0.86761605]\n"
          ]
        }
      ]
    },
    {
      "cell_type": "code",
      "source": [
        "#np.argmax() 가장 큰 값의 인덱스 추출\n",
        "best_index = np.argmax(gs.cv_results_['mean_test_score'])\n",
        "print(gs.cv_results_['params'][best_index])"
      ],
      "metadata": {
        "colab": {
          "base_uri": "https://localhost:8080/"
        },
        "id": "DmUofZSTZUIf",
        "outputId": "b2ffcfb7-21d4-4016-d41d-e20eeb616a17"
      },
      "execution_count": 17,
      "outputs": [
        {
          "output_type": "stream",
          "name": "stdout",
          "text": [
            "{'min_impurity_decrease': 0.0001}\n"
          ]
        }
      ]
    },
    {
      "cell_type": "code",
      "source": [
        "#params 수 늘리기\n",
        "params = {'min_impurity_decrease': np.arange(0.0001,0.001, 0.0001), 'max_depth': range(5,20,1), 'min_samples_split': range(2,100,10)}\n",
        "#총 (9*15*10)*5=6750 모델을 만듬\n",
        "\n",
        "gs = GridSearchCV(DecisionTreeClassifier(random_state=42), params, n_jobs=-1)\n",
        "gs.fit(train_input, train_target)\n",
        "print(gs.best_params_)"
      ],
      "metadata": {
        "colab": {
          "base_uri": "https://localhost:8080/"
        },
        "id": "jaT92l8maFkd",
        "outputId": "3a738f7a-2fb1-4840-a21e-7851227bf15f"
      },
      "execution_count": 19,
      "outputs": [
        {
          "output_type": "stream",
          "name": "stdout",
          "text": [
            "{'max_depth': 14, 'min_impurity_decrease': 0.0004, 'min_samples_split': 12}\n"
          ]
        }
      ]
    },
    {
      "cell_type": "code",
      "source": [
        "print(np.max(gs.cv_results_['mean_test_score']))\n",
        "#0.0001이나 1같은 간격을 둔 것에 특별한 의미가 없다"
      ],
      "metadata": {
        "colab": {
          "base_uri": "https://localhost:8080/"
        },
        "id": "0e3YGc8-bQFb",
        "outputId": "c61cd6fb-30f3-4a72-e76a-54a026c02641"
      },
      "execution_count": 20,
      "outputs": [
        {
          "output_type": "stream",
          "name": "stdout",
          "text": [
            "0.8683865773302731\n"
          ]
        }
      ]
    },
    {
      "cell_type": "code",
      "source": [
        "#랜덤 서치\n",
        "#범위나 간격을 미리 정하기 어려울 때, 너무 많은 매개변수 조건이 있을 때\n",
        "\n",
        "from scipy.stats import uniform, randint\n",
        "rgen = randint(0,10)\n",
        "rgen.rvs(10)"
      ],
      "metadata": {
        "colab": {
          "base_uri": "https://localhost:8080/"
        },
        "id": "X3WUKgb-bze_",
        "outputId": "ae82513b-07b1-469e-caa3-99b5ea668ca0"
      },
      "execution_count": 21,
      "outputs": [
        {
          "output_type": "execute_result",
          "data": {
            "text/plain": [
              "array([5, 8, 0, 2, 0, 2, 0, 6, 0, 3])"
            ]
          },
          "metadata": {},
          "execution_count": 21
        }
      ]
    },
    {
      "cell_type": "code",
      "source": [
        "np.unique(rgen.rvs(1000), return_counts=True)"
      ],
      "metadata": {
        "colab": {
          "base_uri": "https://localhost:8080/"
        },
        "id": "3qIht5_oh3GY",
        "outputId": "43ae06f5-e04b-425a-8c43-aeee8de8e42b"
      },
      "execution_count": 22,
      "outputs": [
        {
          "output_type": "execute_result",
          "data": {
            "text/plain": [
              "(array([0, 1, 2, 3, 4, 5, 6, 7, 8, 9]),\n",
              " array([ 90,  94,  88, 106,  95, 108, 111, 107,  95, 106]))"
            ]
          },
          "metadata": {},
          "execution_count": 22
        }
      ]
    },
    {
      "cell_type": "code",
      "source": [
        "ugen= uniform(0,1)\n",
        "ugen.rvs(10)"
      ],
      "metadata": {
        "colab": {
          "base_uri": "https://localhost:8080/"
        },
        "id": "g7CkWdnPiMyx",
        "outputId": "461be653-c626-4e3a-8a56-615d1f443caf"
      },
      "execution_count": 23,
      "outputs": [
        {
          "output_type": "execute_result",
          "data": {
            "text/plain": [
              "array([0.88114808, 0.30402987, 0.96520045, 0.9170597 , 0.93864045,\n",
              "       0.19717193, 0.12781566, 0.35556281, 0.21663714, 0.7752668 ])"
            ]
          },
          "metadata": {},
          "execution_count": 23
        }
      ]
    },
    {
      "cell_type": "code",
      "source": [
        "params = {\"min_impurity_decrease\": uniform(0.0001, 0.001), 'max_depth': randint(20,50), 'min_samples_split': randint(2,25), 'min_samples_leaf': randint(1, 25)}\n",
        "\n",
        "from sklearn.model_selection import RandomizedSearchCV\n",
        "gs = RandomizedSearchCV(DecisionTreeClassifier(random_state=42), params, n_iter=100, n_jobs=-1, random_state=42) #총 n_iter만큼 샘플링\n",
        "gs.fit(train_input, train_target)\n",
        "#그리드서치보다 교차검증 수를 줄이고 더 넓은 영역을 효과적으로 탐색\n",
        "print(gs.best_params_)"
      ],
      "metadata": {
        "colab": {
          "base_uri": "https://localhost:8080/"
        },
        "id": "RwjoGwAXieMX",
        "outputId": "0a2354dd-7d08-4135-821c-8ef343d6e05a"
      },
      "execution_count": 25,
      "outputs": [
        {
          "output_type": "stream",
          "name": "stdout",
          "text": [
            "{'max_depth': 39, 'min_impurity_decrease': 0.00034102546602601173, 'min_samples_leaf': 7, 'min_samples_split': 13}\n"
          ]
        }
      ]
    },
    {
      "cell_type": "code",
      "source": [
        "print(np.max(gs.cv_results_['mean_test_score']))"
      ],
      "metadata": {
        "colab": {
          "base_uri": "https://localhost:8080/"
        },
        "id": "QHmo0lfQjkwx",
        "outputId": "81ad100b-c50b-4279-fba7-3f864187f676"
      },
      "execution_count": 26,
      "outputs": [
        {
          "output_type": "stream",
          "name": "stdout",
          "text": [
            "0.8695428296438884\n"
          ]
        }
      ]
    },
    {
      "cell_type": "code",
      "source": [
        "dt = gs.best_estimator_ #최적의 모델은 이미 전체 훈련 세트(train_input, train_target)로 훈련되어 best_estimator_에 저장되어 있음\n",
        "print(dt.score(test_input, test_target))"
      ],
      "metadata": {
        "colab": {
          "base_uri": "https://localhost:8080/"
        },
        "id": "9PpGIAKRj754",
        "outputId": "c73fc1ad-53ad-4add-ad30-2479328e3a9b"
      },
      "execution_count": 27,
      "outputs": [
        {
          "output_type": "stream",
          "name": "stdout",
          "text": [
            "0.86\n"
          ]
        }
      ]
    },
    {
      "cell_type": "code",
      "source": [
        "#교차검증으로 매개변수(하이퍼파라미터)를 정하고 => 훈련 데이터로 훈련"
      ],
      "metadata": {
        "id": "5x4MKVZ2kqfv"
      },
      "execution_count": null,
      "outputs": []
    }
  ]
}